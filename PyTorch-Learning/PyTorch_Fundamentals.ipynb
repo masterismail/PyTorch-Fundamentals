{
  "nbformat": 4,
  "nbformat_minor": 0,
  "metadata": {
    "colab": {
      "provenance": [],
      "authorship_tag": "ABX9TyPRDCNqQ1EwIC6oo5Oh+t/L",
      "include_colab_link": true
    },
    "kernelspec": {
      "name": "python3",
      "display_name": "Python 3"
    },
    "language_info": {
      "name": "python"
    },
    "gpuClass": "standard"
  },
  "cells": [
    {
      "cell_type": "markdown",
      "metadata": {
        "id": "view-in-github",
        "colab_type": "text"
      },
      "source": [
        "<a href=\"https://colab.research.google.com/github/masterismail/PyTorch-Fundamentals/blob/main/PyTorch_Fundamentals.ipynb\" target=\"_parent\"><img src=\"https://colab.research.google.com/assets/colab-badge.svg\" alt=\"Open In Colab\"/></a>"
      ]
    },
    {
      "cell_type": "markdown",
      "source": [
        "# 00.PyTorch Fundamentals"
      ],
      "metadata": {
        "id": "LUmVlqV0HER9"
      }
    },
    {
      "cell_type": "code",
      "source": [
        "import torch\n",
        "import pandas as pd\n",
        "import numpy as np\n",
        "import matplotlib.pyplot as plt\n",
        "print(torch.__version__)"
      ],
      "metadata": {
        "colab": {
          "base_uri": "https://localhost:8080/"
        },
        "id": "EJ7JbfmTHbL1",
        "outputId": "e365cd22-6110-4657-93ca-e0b2eee6a8fa"
      },
      "execution_count": null,
      "outputs": [
        {
          "output_type": "stream",
          "name": "stdout",
          "text": [
            "2.0.0+cu118\n"
          ]
        }
      ]
    },
    {
      "cell_type": "markdown",
      "source": [
        "## Introduction to tensors\n",
        "### creating tensors\n",
        "PyTorch tensors are creates using torch.tensor() \n",
        " "
      ],
      "metadata": {
        "id": "eEtOrcuLJMTE"
      }
    },
    {
      "cell_type": "code",
      "source": [
        "#scalar\n",
        "scalar = torch.tensor(7)\n",
        "scalar\n"
      ],
      "metadata": {
        "colab": {
          "base_uri": "https://localhost:8080/"
        },
        "id": "zURELu4wJXl6",
        "outputId": "af0e6336-e228-4b12-bc46-93e0ebcfe86f"
      },
      "execution_count": null,
      "outputs": [
        {
          "output_type": "execute_result",
          "data": {
            "text/plain": [
              "tensor(7)"
            ]
          },
          "metadata": {},
          "execution_count": 2
        }
      ]
    },
    {
      "cell_type": "code",
      "source": [
        "scalar.ndim"
      ],
      "metadata": {
        "colab": {
          "base_uri": "https://localhost:8080/"
        },
        "id": "EEO86DfmM3Fb",
        "outputId": "84da8358-fa04-4ed9-fdd0-67e95d48ef1d"
      },
      "execution_count": null,
      "outputs": [
        {
          "output_type": "execute_result",
          "data": {
            "text/plain": [
              "0"
            ]
          },
          "metadata": {},
          "execution_count": 3
        }
      ]
    },
    {
      "cell_type": "code",
      "source": [
        "#Get tensor back as python integer\n",
        "scalar.item() "
      ],
      "metadata": {
        "colab": {
          "base_uri": "https://localhost:8080/"
        },
        "id": "R_LdtkQ_N26o",
        "outputId": "1de73564-df4d-4330-ace6-f2d7ff1c533b"
      },
      "execution_count": null,
      "outputs": [
        {
          "output_type": "execute_result",
          "data": {
            "text/plain": [
              "7"
            ]
          },
          "metadata": {},
          "execution_count": 4
        }
      ]
    },
    {
      "cell_type": "code",
      "source": [
        "#vector\n",
        "vector = torch.tensor([7,7])\n",
        "vector"
      ],
      "metadata": {
        "colab": {
          "base_uri": "https://localhost:8080/"
        },
        "id": "An6gILC_P4Ff",
        "outputId": "a90a8996-e112-44ec-9f82-eb379fcb848f"
      },
      "execution_count": null,
      "outputs": [
        {
          "output_type": "execute_result",
          "data": {
            "text/plain": [
              "tensor([7, 7])"
            ]
          },
          "metadata": {},
          "execution_count": 5
        }
      ]
    },
    {
      "cell_type": "code",
      "source": [
        "vector.ndim"
      ],
      "metadata": {
        "colab": {
          "base_uri": "https://localhost:8080/"
        },
        "id": "yY3a3CbOP-2R",
        "outputId": "fb2b8ab2-f13d-4e1f-e7ba-f406c340411f"
      },
      "execution_count": null,
      "outputs": [
        {
          "output_type": "execute_result",
          "data": {
            "text/plain": [
              "1"
            ]
          },
          "metadata": {},
          "execution_count": 6
        }
      ]
    },
    {
      "cell_type": "code",
      "source": [
        "vector.shape"
      ],
      "metadata": {
        "colab": {
          "base_uri": "https://localhost:8080/"
        },
        "id": "O8ZVeLLhQLYd",
        "outputId": "c06a35b5-6df8-41a5-889b-8498969f940c"
      },
      "execution_count": null,
      "outputs": [
        {
          "output_type": "execute_result",
          "data": {
            "text/plain": [
              "torch.Size([2])"
            ]
          },
          "metadata": {},
          "execution_count": 7
        }
      ]
    },
    {
      "cell_type": "code",
      "source": [
        "# MATRIX\n",
        "MATRIX=torch.tensor([[7,8],\n",
        "                    [9,10]])\n",
        "MATRIX"
      ],
      "metadata": {
        "colab": {
          "base_uri": "https://localhost:8080/"
        },
        "id": "p9ZJ4XMYQRHr",
        "outputId": "08dfe14c-b077-4ec2-bccf-6bde68823786"
      },
      "execution_count": null,
      "outputs": [
        {
          "output_type": "execute_result",
          "data": {
            "text/plain": [
              "tensor([[ 7,  8],\n",
              "        [ 9, 10]])"
            ]
          },
          "metadata": {},
          "execution_count": 8
        }
      ]
    },
    {
      "cell_type": "code",
      "source": [
        "MATRIX.ndim"
      ],
      "metadata": {
        "colab": {
          "base_uri": "https://localhost:8080/"
        },
        "id": "7YKIGJB_Qm4W",
        "outputId": "340880fe-bbe1-4744-de3b-cd3666bb9e31"
      },
      "execution_count": null,
      "outputs": [
        {
          "output_type": "execute_result",
          "data": {
            "text/plain": [
              "2"
            ]
          },
          "metadata": {},
          "execution_count": 9
        }
      ]
    },
    {
      "cell_type": "code",
      "source": [
        "MATRIX.shape"
      ],
      "metadata": {
        "colab": {
          "base_uri": "https://localhost:8080/"
        },
        "id": "na8wBnzdQ5ML",
        "outputId": "583707ab-5716-4863-d711-99858941b439"
      },
      "execution_count": null,
      "outputs": [
        {
          "output_type": "execute_result",
          "data": {
            "text/plain": [
              "torch.Size([2, 2])"
            ]
          },
          "metadata": {},
          "execution_count": 10
        }
      ]
    },
    {
      "cell_type": "code",
      "source": [
        "#TENSOR\n",
        "TENSOR = torch.tensor([[[1,2,3],\n",
        "                        [3,6,9],\n",
        "                        [4,6,10]]])\n",
        "TENSOR"
      ],
      "metadata": {
        "colab": {
          "base_uri": "https://localhost:8080/"
        },
        "id": "-8r95491RTkj",
        "outputId": "ce1fecac-cb35-4e5a-c4c7-33451533f3fd"
      },
      "execution_count": null,
      "outputs": [
        {
          "output_type": "execute_result",
          "data": {
            "text/plain": [
              "tensor([[[ 1,  2,  3],\n",
              "         [ 3,  6,  9],\n",
              "         [ 4,  6, 10]]])"
            ]
          },
          "metadata": {},
          "execution_count": 11
        }
      ]
    },
    {
      "cell_type": "code",
      "source": [
        "TENSOR.ndim\n"
      ],
      "metadata": {
        "colab": {
          "base_uri": "https://localhost:8080/"
        },
        "id": "8i2wD8qkRmMW",
        "outputId": "fd9d5e86-45a4-407c-8cdb-2816d916aff4"
      },
      "execution_count": null,
      "outputs": [
        {
          "output_type": "execute_result",
          "data": {
            "text/plain": [
              "3"
            ]
          },
          "metadata": {},
          "execution_count": 12
        }
      ]
    },
    {
      "cell_type": "code",
      "source": [
        "TENSOR.shape"
      ],
      "metadata": {
        "colab": {
          "base_uri": "https://localhost:8080/"
        },
        "id": "q8S88KxzRr3g",
        "outputId": "1813b698-a6d8-40c2-f76e-2477976b451c"
      },
      "execution_count": null,
      "outputs": [
        {
          "output_type": "execute_result",
          "data": {
            "text/plain": [
              "torch.Size([1, 3, 3])"
            ]
          },
          "metadata": {},
          "execution_count": 13
        }
      ]
    },
    {
      "cell_type": "code",
      "source": [
        "TENSOR[1]"
      ],
      "metadata": {
        "colab": {
          "base_uri": "https://localhost:8080/",
          "height": 165
        },
        "id": "dSLUFSOFRtzc",
        "outputId": "c2c6152d-dce5-465e-d3f4-d33b56f30fb8"
      },
      "execution_count": null,
      "outputs": [
        {
          "output_type": "error",
          "ename": "IndexError",
          "evalue": "ignored",
          "traceback": [
            "\u001b[0;31m---------------------------------------------------------------------------\u001b[0m",
            "\u001b[0;31mIndexError\u001b[0m                                Traceback (most recent call last)",
            "\u001b[0;32m<ipython-input-14-41fed1505457>\u001b[0m in \u001b[0;36m<cell line: 1>\u001b[0;34m()\u001b[0m\n\u001b[0;32m----> 1\u001b[0;31m \u001b[0mTENSOR\u001b[0m\u001b[0;34m[\u001b[0m\u001b[0;36m1\u001b[0m\u001b[0;34m]\u001b[0m\u001b[0;34m\u001b[0m\u001b[0;34m\u001b[0m\u001b[0m\n\u001b[0m",
            "\u001b[0;31mIndexError\u001b[0m: index 1 is out of bounds for dimension 0 with size 1"
          ]
        }
      ]
    },
    {
      "cell_type": "code",
      "source": [
        "TENSOR[0]"
      ],
      "metadata": {
        "id": "4GKPh1n_R3di"
      },
      "execution_count": null,
      "outputs": []
    },
    {
      "cell_type": "markdown",
      "source": [
        "### Random tensors\n",
        "\n",
        "why random tensors?\n",
        "\n",
        "Random tensors are important because the way many neural networls learn is that they start with tensors full of random numbers and then adjust  those random numbers to better represent the data.\n",
        "\n",
        "`Start with random numbers -> look at data -> update random numbers -> look at data -> update random numbers`\n",
        "\n",
        "Torch random tensors - https://pytorch.org/docs/stable/generated/torch.rand.html"
      ],
      "metadata": {
        "id": "rQ20xkKHKpyB"
      }
    },
    {
      "cell_type": "code",
      "source": [
        "# create a random tensor of size (3,4)\n",
        "random_tensor = torch.rand(3,4)\n",
        "random_tensor"
      ],
      "metadata": {
        "id": "NXMhHMgiR6hv"
      },
      "execution_count": null,
      "outputs": []
    },
    {
      "cell_type": "code",
      "source": [
        "random_tensor.ndim\n"
      ],
      "metadata": {
        "id": "GyuRijyGOiry"
      },
      "execution_count": null,
      "outputs": []
    },
    {
      "cell_type": "code",
      "source": [
        "#create a random tensor with similar shape to an image tensor\n",
        "random_image_size_tensor = torch.rand(size=(224,224,3)) # heigth , width , colour channel (R,G,B)\n",
        "random_image_size_tensor.shape, random_image_size_tensor.ndim "
      ],
      "metadata": {
        "id": "er-WNnodOqmX"
      },
      "execution_count": null,
      "outputs": []
    },
    {
      "cell_type": "code",
      "source": [
        "  # create a tensor of all zeroes\n",
        "  zeros = torch.zeros(size=(3,4))\n",
        "  zeros"
      ],
      "metadata": {
        "id": "sWstLyGcRghQ"
      },
      "execution_count": null,
      "outputs": []
    },
    {
      "cell_type": "code",
      "source": [
        "# create a tensor for ones\n",
        "ones = torch.ones(size=(3,4))\n",
        "ones"
      ],
      "metadata": {
        "id": "1p0FT9WSUukO"
      },
      "execution_count": null,
      "outputs": []
    },
    {
      "cell_type": "code",
      "source": [
        "#finding data type\n",
        " ones.dtype"
      ],
      "metadata": {
        "id": "XDOAE-9iVclP"
      },
      "execution_count": null,
      "outputs": []
    },
    {
      "cell_type": "markdown",
      "source": [
        "## Creating a range of tensors and tensors-like\n"
      ],
      "metadata": {
        "id": "7r_q1sK2VhsN"
      }
    },
    {
      "cell_type": "code",
      "source": [
        "# use torch.range()\n",
        "one_to_ten = torch.arange(start=0,end=1000,step=77)\n",
        "one_to_ten"
      ],
      "metadata": {
        "id": "JgXoKGEHWAh8"
      },
      "execution_count": null,
      "outputs": []
    },
    {
      "cell_type": "code",
      "source": [
        "torch.__version__"
      ],
      "metadata": {
        "id": "sDiIKjHYWIEK"
      },
      "execution_count": null,
      "outputs": []
    },
    {
      "cell_type": "code",
      "source": [
        " #creating alike\n",
        " ten_zeros = torch.zeros_like(input=one_to_ten)\n",
        " ten_zeros"
      ],
      "metadata": {
        "id": "7_bw60veXp8S"
      },
      "execution_count": null,
      "outputs": []
    },
    {
      "cell_type": "code",
      "source": [
        "#practising range\n",
        "one_to_five = torch.arange(start = 1, end = 6, step=1)\n",
        "one_to_five\n"
      ],
      "metadata": {
        "id": "8Gc0FGZnYaTD"
      },
      "execution_count": null,
      "outputs": []
    },
    {
      "cell_type": "code",
      "source": [
        " tensor_zeroes=torch.zeros_like(input=one_to_five)\n",
        " tensor_zeroes\n",
        " "
      ],
      "metadata": {
        "id": "qzgOBwsHkw00"
      },
      "execution_count": null,
      "outputs": []
    },
    {
      "cell_type": "markdown",
      "source": [
        "### Tensors data types\n",
        "**Note:** Tensor datatypes is one of the 3 big errors that you will run into with PyTorch and deep learning: \n",
        "1. Tensors are not right data type\n",
        "2. Tensors are not right shape\n",
        "3. Tensors are not on the righr device \n",
        "\n",
        "Precision in computing - https://en.wikipedia.org/wiki/Precision_(computer_science) "
      ],
      "metadata": {
        "id": "A6O1iFI-niZt"
      }
    },
    {
      "cell_type": "markdown",
      "source": [
        "* Note : In PyTorch the `size` and `shape` means the same thing "
      ],
      "metadata": {
        "id": "piKsuXxf0g4O"
      }
    },
    {
      "cell_type": "code",
      "source": [
        "#float 32 tensor\n",
        "float_32_tensor = torch.tensor([3.0,6.0,5.0],\n",
        "                               dtype=torch.float16,   #what datatype is tensor (float32 or float16)\n",
        "                               device=None,       # what device is the tensor on \n",
        "                               requires_grad=False) #whether or not to track gradient with the tensor \n",
        "float_32_tensor"
      ],
      "metadata": {
        "id": "vZ2UmSxjlSzv"
      },
      "execution_count": null,
      "outputs": []
    },
    {
      "cell_type": "code",
      "source": [
        "float_32_tensor.dtype"
      ],
      "metadata": {
        "id": "fi2y2eSGlwxu"
      },
      "execution_count": null,
      "outputs": []
    },
    {
      "cell_type": "code",
      "source": [
        "float_16_tensor = float_32_tensor.type(torch.float16)\n",
        "float_16_tensor  "
      ],
      "metadata": {
        "id": "r5YPWRfsl8MA"
      },
      "execution_count": null,
      "outputs": []
    },
    {
      "cell_type": "code",
      "source": [
        "float_16_tensor * float_32_tensor"
      ],
      "metadata": {
        "id": "fAxui7fjo40M"
      },
      "execution_count": null,
      "outputs": []
    },
    {
      "cell_type": "code",
      "source": [
        " int_32_tensor = torch.tensor([3,5,6], dtype=torch.int32)\n",
        " int_32_tensor"
      ],
      "metadata": {
        "id": "OZet5D2zrF2-"
      },
      "execution_count": null,
      "outputs": []
    },
    {
      "cell_type": "markdown",
      "source": [
        "### getting information from tensors\n",
        "1.Tensors are not right data type - to do get dataype from a tensor can use `tensor.dtype`\n",
        "\n",
        "2.Tensors are not right shape -  to do get shape from a tensor can use `tensor.shape`\n",
        "\n",
        "3.Tensors are not on the righr device - to get device from a tensor can use `tensor.device`\n"
      ],
      "metadata": {
        "id": "kUhAtxEJrZmm"
      }
    },
    {
      "cell_type": "code",
      "source": [
        " #create a tensor\n",
        " some_tensor = torch.rand(3,4)\n",
        " some_tensor"
      ],
      "metadata": {
        "id": "OuH5x3jCwbPH"
      },
      "execution_count": null,
      "outputs": []
    },
    {
      "cell_type": "code",
      "source": [
        "# find details about some tesor\n",
        "print(f\"Data type of tensor is: {some_tensor.dtype}\")\n",
        "print(f\"Shape of tensor is: {some_tensor.shape}\")\n",
        "print(f\"Device of tensor is: {some_tensor.device}\")"
      ],
      "metadata": {
        "id": "vjzNfT7FQXx2"
      },
      "execution_count": null,
      "outputs": []
    },
    {
      "cell_type": "markdown",
      "source": [
        "  ### Manipulating Tensor (Tensors operations)\n",
        "\n",
        "Tensors operations include :\n",
        "\n",
        "* Addition\n",
        "\n",
        "* Subtraction\n",
        "\n",
        "* Multiplication (element-wise)\n",
        "\n",
        "* Division\n",
        "\n",
        "* Matrix multiplication\n"
      ],
      "metadata": {
        "id": "BiTi6F4qQuMU"
      }
    },
    {
      "cell_type": "code",
      "source": [
        "# create a tensor and add 11\n",
        "tensor= torch.tensor([1,2,3])\n",
        "tensor + 11"
      ],
      "metadata": {
        "id": "D0Iqne6VT_A5",
        "colab": {
          "base_uri": "https://localhost:8080/"
        },
        "outputId": "a2c520a7-f1c5-46f5-8a92-332a98c6eb26"
      },
      "execution_count": null,
      "outputs": [
        {
          "output_type": "execute_result",
          "data": {
            "text/plain": [
              "tensor([12, 13, 14])"
            ]
          },
          "metadata": {},
          "execution_count": 22
        }
      ]
    },
    {
      "cell_type": "code",
      "source": [
        "# multiply a tensor by 10\n",
        "tensor = torch.tensor([2,3,4])\n",
        "tensor*10"
      ],
      "metadata": {
        "id": "bi3c5lv1YZK8",
        "colab": {
          "base_uri": "https://localhost:8080/"
        },
        "outputId": "29e46fca-45d6-4525-9b36-c6f849aa9dee"
      },
      "execution_count": null,
      "outputs": [
        {
          "output_type": "execute_result",
          "data": {
            "text/plain": [
              "tensor([20, 30, 40])"
            ]
          },
          "metadata": {},
          "execution_count": 23
        }
      ]
    },
    {
      "cell_type": "code",
      "source": [
        " tensor"
      ],
      "metadata": {
        "id": "q-thza3JYj1H",
        "colab": {
          "base_uri": "https://localhost:8080/"
        },
        "outputId": "ce881dc2-92c7-4a14-9f43-4ddddb88aafc"
      },
      "execution_count": null,
      "outputs": [
        {
          "output_type": "execute_result",
          "data": {
            "text/plain": [
              "tensor([2, 3, 4])"
            ]
          },
          "metadata": {},
          "execution_count": 24
        }
      ]
    },
    {
      "cell_type": "code",
      "source": [
        "# subtract tensor\n",
        "tensor - 10"
      ],
      "metadata": {
        "id": "tRpbtt_6ZG90",
        "colab": {
          "base_uri": "https://localhost:8080/"
        },
        "outputId": "552804a7-31a7-4565-99f1-ac0e46f78f3a"
      },
      "execution_count": null,
      "outputs": [
        {
          "output_type": "execute_result",
          "data": {
            "text/plain": [
              "tensor([-8, -7, -6])"
            ]
          },
          "metadata": {},
          "execution_count": 25
        }
      ]
    },
    {
      "cell_type": "code",
      "source": [
        "# try out PyTorch in-built functions\n",
        "tensor\n",
        "torch.mul(tensor,10)"
      ],
      "metadata": {
        "id": "CG7gV-aQZNpK",
        "colab": {
          "base_uri": "https://localhost:8080/"
        },
        "outputId": "1cea4be5-ee6b-4407-de99-a131d182acd3"
      },
      "execution_count": null,
      "outputs": [
        {
          "output_type": "execute_result",
          "data": {
            "text/plain": [
              "tensor([20, 30, 40])"
            ]
          },
          "metadata": {},
          "execution_count": 26
        }
      ]
    },
    {
      "cell_type": "markdown",
      "source": [
        "### Matrix Multiplication\n",
        "\n",
        "There are two main ways to perform multiplication in neural networls and deep learning\n",
        "\n",
        "1. Element-wise multiplication\n",
        "2. Matrix multiplication (dot product)\n",
        "\n",
        "more information on this: https://www.mathsisfun.com/algebra/matrix-multiplying.html\n",
        "\n",
        "There are two main rules that performing matrix multiplication needs to satisfy:\n",
        "1. the **inner dimensions** must match:\n",
        "* `(3,2) @ (3,2)` won't work\n",
        "* `(4,5) @ (5,7)` will work\n",
        "2. The resulting matrix has the shape of the ***outer dimension***\n",
        "* `(2,3) @ (3,2)` -> `(2,2)`\n",
        "* `(4,5) @ (5,7)` -> `(4,7)`  \n"
      ],
      "metadata": {
        "id": "74rZlGGoZZ0b"
      }
    },
    {
      "cell_type": "code",
      "source": [
        "#example of matrix multiplication when the inner dimensions are same\n",
        "\n",
        "torch.matmul(torch.rand(3,2),torch.rand(2,3))\n"
      ],
      "metadata": {
        "id": "csJ5eAI4iADd",
        "colab": {
          "base_uri": "https://localhost:8080/"
        },
        "outputId": "3600af17-bbc9-4ecc-e33c-2904649a01d7"
      },
      "execution_count": null,
      "outputs": [
        {
          "output_type": "execute_result",
          "data": {
            "text/plain": [
              "tensor([[0.5162, 0.6705, 0.5658],\n",
              "        [0.8470, 1.1962, 0.9974],\n",
              "        [0.8628, 1.0130, 0.8684]])"
            ]
          },
          "metadata": {},
          "execution_count": 27
        }
      ]
    },
    {
      "cell_type": "code",
      "source": [
        "# element-wise multiplication\n",
        "print(tensor, \"*\", tensor)\n",
        "print(f\"equals: {tensor*tensor}\")"
      ],
      "metadata": {
        "id": "ruQMzlbxaex4",
        "colab": {
          "base_uri": "https://localhost:8080/"
        },
        "outputId": "b3a7290a-c450-4bf6-99f2-eda2397ee195"
      },
      "execution_count": null,
      "outputs": [
        {
          "output_type": "stream",
          "name": "stdout",
          "text": [
            "tensor([2, 3, 4]) * tensor([2, 3, 4])\n",
            "equals: tensor([ 4,  9, 16])\n"
          ]
        }
      ]
    },
    {
      "cell_type": "code",
      "source": [
        " # matrix multiplication (note that \"mat\" stands for \"matrix\") \n",
        " %%time\n",
        " torch.matmul(tensor,tensor)"
      ],
      "metadata": {
        "id": "StmxDfp6biH1",
        "colab": {
          "base_uri": "https://localhost:8080/"
        },
        "outputId": "2dcd039d-5f76-43f5-c38f-4fed39aac615"
      },
      "execution_count": null,
      "outputs": [
        {
          "output_type": "stream",
          "name": "stdout",
          "text": [
            "CPU times: user 387 µs, sys: 0 ns, total: 387 µs\n",
            "Wall time: 2.39 ms\n"
          ]
        },
        {
          "output_type": "execute_result",
          "data": {
            "text/plain": [
              "tensor(29)"
            ]
          },
          "metadata": {},
          "execution_count": 29
        }
      ]
    },
    {
      "cell_type": "code",
      "source": [
        " %%time\n",
        " value =0 \n",
        " for i in range(len(tensor)):\n",
        "   value+= tensor[i] * tensor[i]\n",
        "print(value)      "
      ],
      "metadata": {
        "id": "Iq2Vtv5sb75d",
        "colab": {
          "base_uri": "https://localhost:8080/"
        },
        "outputId": "3635ad48-6460-4b62-be76-794fce056e99"
      },
      "execution_count": null,
      "outputs": [
        {
          "output_type": "stream",
          "name": "stdout",
          "text": [
            "tensor(29)\n",
            "CPU times: user 1.76 ms, sys: 0 ns, total: 1.76 ms\n",
            "Wall time: 2.21 ms\n"
          ]
        }
      ]
    },
    {
      "cell_type": "markdown",
      "source": [
        "### One of the most common errors in deep learning : shape errors \n"
      ],
      "metadata": {
        "id": "tnlZ3OhSf-Qh"
      }
    },
    {
      "cell_type": "code",
      "source": [
        "# shapes for matrix multiplication \n",
        "tensor_A = torch.tensor([[1,2],\n",
        "                        [3,4],\n",
        "                        [5,6]])\n",
        "tensor_B = torch.tensor([[7,10],\n",
        "                        [8,11],\n",
        "                        [3,2]])\n",
        "# torch.mm(tensor_A , tensor_b) # torch.mm is same as torch.mathmul\n",
        "torch.matmul(tensor_A,tensor_B)    "
      ],
      "metadata": {
        "id": "LTjBr7TWhTr0",
        "colab": {
          "base_uri": "https://localhost:8080/",
          "height": 200
        },
        "outputId": "c44b869a-209e-41f7-c270-608822db2f26"
      },
      "execution_count": null,
      "outputs": [
        {
          "output_type": "error",
          "ename": "RuntimeError",
          "evalue": "ignored",
          "traceback": [
            "\u001b[0;31m---------------------------------------------------------------------------\u001b[0m",
            "\u001b[0;31mRuntimeError\u001b[0m                              Traceback (most recent call last)",
            "\u001b[0;32m<ipython-input-31-e3438db3c286>\u001b[0m in \u001b[0;36m<cell line: 9>\u001b[0;34m()\u001b[0m\n\u001b[1;32m      7\u001b[0m                         [3,2]])\n\u001b[1;32m      8\u001b[0m \u001b[0;31m# torch.mm(tensor_A , tensor_b) # torch.mm is same as torch.mathmul\u001b[0m\u001b[0;34m\u001b[0m\u001b[0;34m\u001b[0m\u001b[0m\n\u001b[0;32m----> 9\u001b[0;31m \u001b[0mtorch\u001b[0m\u001b[0;34m.\u001b[0m\u001b[0mmatmul\u001b[0m\u001b[0;34m(\u001b[0m\u001b[0mtensor_A\u001b[0m\u001b[0;34m,\u001b[0m\u001b[0mtensor_B\u001b[0m\u001b[0;34m)\u001b[0m\u001b[0;34m\u001b[0m\u001b[0;34m\u001b[0m\u001b[0m\n\u001b[0m",
            "\u001b[0;31mRuntimeError\u001b[0m: mat1 and mat2 shapes cannot be multiplied (3x2 and 3x2)"
          ]
        }
      ]
    },
    {
      "cell_type": "markdown",
      "source": [
        "To fix the tensor shape issues, we can manipulate the shape of one of out tensors using **transpose**\n",
        "\n",
        "A **transpose** switches the axes or dimesnion of the given tensor"
      ],
      "metadata": {
        "id": "SdCekVwxwjOb"
      }
    },
    {
      "cell_type": "code",
      "source": [
        "tensor_B.T"
      ],
      "metadata": {
        "id": "PKXE6zEPxQJ0",
        "colab": {
          "base_uri": "https://localhost:8080/"
        },
        "outputId": "6d88e410-2761-4424-dfb8-6946750c4ae4"
      },
      "execution_count": null,
      "outputs": [
        {
          "output_type": "execute_result",
          "data": {
            "text/plain": [
              "tensor([[ 7,  8,  3],\n",
              "        [10, 11,  2]])"
            ]
          },
          "metadata": {},
          "execution_count": 32
        }
      ]
    },
    {
      "cell_type": "code",
      "source": [
        "tensor_B"
      ],
      "metadata": {
        "id": "eCjhMCWfxWlJ",
        "colab": {
          "base_uri": "https://localhost:8080/"
        },
        "outputId": "68e00db8-b3c1-475d-8023-87ea556c23af"
      },
      "execution_count": null,
      "outputs": [
        {
          "output_type": "execute_result",
          "data": {
            "text/plain": [
              "tensor([[ 7, 10],\n",
              "        [ 8, 11],\n",
              "        [ 3,  2]])"
            ]
          },
          "metadata": {},
          "execution_count": 33
        }
      ]
    },
    {
      "cell_type": "code",
      "source": [
        "# so when we transpose the matrix and multiply we don't get errors\n",
        "print(f\"original shape : tensor_A = {tensor_A.shape}, tensor_B = {tensor_B.shape}\")\n",
        "print(f\"new shapes : tensor_A = {tensor_A.shape}, tensor_B = {tensor_B.T.shape}\")\n",
        "print(f\"multiplying : {tensor_A.shape} @ {tensor_B.shape} <- inner dimensions must match\") \n",
        "output = torch.matmul(tensor_A,tensor_B.T)\n",
        "print(f\"output : {output}\")\n",
        "print(f\"\\n Output Shape : {output.shape}\")"
      ],
      "metadata": {
        "id": "lHC5SiawxYAO",
        "colab": {
          "base_uri": "https://localhost:8080/"
        },
        "outputId": "e868e680-680a-4b1a-fd2c-dfb8bf6699ec"
      },
      "execution_count": null,
      "outputs": [
        {
          "output_type": "stream",
          "name": "stdout",
          "text": [
            "original shape : tensor_A = torch.Size([3, 2]), tensor_B = torch.Size([3, 2])\n",
            "new shapes : tensor_A = torch.Size([3, 2]), tensor_B = torch.Size([2, 3])\n",
            "multiplying : torch.Size([3, 2]) @ torch.Size([3, 2]) <- inner dimensions must match\n",
            "output : tensor([[ 27,  30,   7],\n",
            "        [ 61,  68,  17],\n",
            "        [ 95, 106,  27]])\n",
            "\n",
            " Output Shape : torch.Size([3, 3])\n"
          ]
        }
      ]
    },
    {
      "cell_type": "markdown",
      "source": [
        "# find the mean max, sum, etc(tensor aggregation)\n",
        "\n",
        " "
      ],
      "metadata": {
        "id": "o0FG7YcJ0gUX"
      }
    },
    {
      "cell_type": "code",
      "source": [
        "# create a tensor\n",
        "x=torch.arange(0,100,10)\n",
        "x"
      ],
      "metadata": {
        "id": "7JyGtlMYSPbY",
        "colab": {
          "base_uri": "https://localhost:8080/"
        },
        "outputId": "1115e664-187d-4ece-acbc-4b9b3806ffde"
      },
      "execution_count": null,
      "outputs": [
        {
          "output_type": "execute_result",
          "data": {
            "text/plain": [
              "tensor([ 0, 10, 20, 30, 40, 50, 60, 70, 80, 90])"
            ]
          },
          "metadata": {},
          "execution_count": 15
        }
      ]
    },
    {
      "cell_type": "code",
      "source": [
        "# find the min\n",
        "torch.min(x) , x.min()"
      ],
      "metadata": {
        "id": "_ZOlz-gMSXIK",
        "colab": {
          "base_uri": "https://localhost:8080/"
        },
        "outputId": "6e499fce-c24f-4b84-bc93-6a3807e31fd0"
      },
      "execution_count": null,
      "outputs": [
        {
          "output_type": "execute_result",
          "data": {
            "text/plain": [
              "(tensor(0), tensor(0))"
            ]
          },
          "metadata": {},
          "execution_count": 16
        }
      ]
    },
    {
      "cell_type": "code",
      "source": [
        "#find the max\n",
        "\n",
        "x.max(), torch.max(x)"
      ],
      "metadata": {
        "id": "nCP4cIjXSuOx",
        "colab": {
          "base_uri": "https://localhost:8080/"
        },
        "outputId": "d39690b7-0e38-43d5-8aea-107ade5b922f"
      },
      "execution_count": null,
      "outputs": [
        {
          "output_type": "execute_result",
          "data": {
            "text/plain": [
              "(tensor(90), tensor(90))"
            ]
          },
          "metadata": {},
          "execution_count": 17
        }
      ]
    },
    {
      "cell_type": "code",
      "source": [
        "# find the mean \n",
        "x=x.type(torch.float32)\n",
        "x.mean()\n",
        "x.type(torch.float32).mean()"
      ],
      "metadata": {
        "id": "-AKZ_QzGS7be",
        "colab": {
          "base_uri": "https://localhost:8080/"
        },
        "outputId": "05c1d6c4-7987-4f88-e4cb-cab086c5c9a7"
      },
      "execution_count": null,
      "outputs": [
        {
          "output_type": "execute_result",
          "data": {
            "text/plain": [
              "tensor(45.)"
            ]
          },
          "metadata": {},
          "execution_count": 18
        }
      ]
    },
    {
      "cell_type": "code",
      "source": [
        "#find the sum\n",
        "torch.sum(x)\n",
        "x.sum()"
      ],
      "metadata": {
        "id": "VrQfzKAfTGXn",
        "colab": {
          "base_uri": "https://localhost:8080/"
        },
        "outputId": "62927a5d-6dff-4504-d6d4-6218ae360653"
      },
      "execution_count": null,
      "outputs": [
        {
          "output_type": "execute_result",
          "data": {
            "text/plain": [
              "tensor(450.)"
            ]
          },
          "metadata": {},
          "execution_count": 19
        }
      ]
    },
    {
      "cell_type": "code",
      "source": [
        "# find the positionn in tensor that has the minimum value with argmin() -> returns index position of target tensor where the minimun value occurs\n",
        "\n",
        "x.argmin()"
      ],
      "metadata": {
        "id": "QATVNcQ4VllP",
        "colab": {
          "base_uri": "https://localhost:8080/"
        },
        "outputId": "ddc7fe0c-3235-4755-f465-53ed6227eef0"
      },
      "execution_count": null,
      "outputs": [
        {
          "output_type": "execute_result",
          "data": {
            "text/plain": [
              "tensor(0)"
            ]
          },
          "metadata": {},
          "execution_count": 20
        }
      ]
    },
    {
      "cell_type": "code",
      "source": [
        "# to find the index of the maximum value\n",
        "x.argmax()"
      ],
      "metadata": {
        "id": "-JQUUtFhXnLd",
        "colab": {
          "base_uri": "https://localhost:8080/"
        },
        "outputId": "8508aebb-d64c-4693-a98f-1e7d64c9a0a7"
      },
      "execution_count": null,
      "outputs": [
        {
          "output_type": "execute_result",
          "data": {
            "text/plain": [
              "tensor(9)"
            ]
          },
          "metadata": {},
          "execution_count": 21
        }
      ]
    },
    {
      "cell_type": "code",
      "source": [
        "\n"
      ],
      "metadata": {
        "id": "LNK2ZhVLX1Jt"
      },
      "execution_count": null,
      "outputs": []
    },
    {
      "cell_type": "markdown",
      "source": [
        "## reshaping, stacking , squeezing and unsqueezing tensors\n",
        "\n",
        "* Reshaping - reshapes an input tensor to a defined shape \n",
        "\n",
        "* view - Return a view of an input tensor of a certain shape but keep the same memory as the original tensor \n",
        "\n",
        "* stacking - combine multiple tensors on top of each other (vstack) or side by side (hstack)\n",
        "\n",
        "* Squeeze - removes all `1` dimensions from a tensor \n",
        "\n",
        "* Unsqueeze - add a `1` dimension to a targer tensor \n",
        "\n",
        "* Permute - Return a view of the input with dimension permuted (swapped) in a certain way"
      ],
      "metadata": {
        "id": "32mT1mZWYDsN"
      }
    },
    {
      "cell_type": "code",
      "source": [
        "#let's create a tensor \n",
        "import torch\n",
        "x=torch.arange(1.,10.)\n",
        "x , x.shape"
      ],
      "metadata": {
        "colab": {
          "base_uri": "https://localhost:8080/"
        },
        "id": "RsBi0WSFze_x",
        "outputId": "ba3f731d-c92c-4cfd-f97b-aa4f4657ac50"
      },
      "execution_count": null,
      "outputs": [
        {
          "output_type": "execute_result",
          "data": {
            "text/plain": [
              "(tensor([1., 2., 3., 4., 5., 6., 7., 8., 9.]), torch.Size([9]))"
            ]
          },
          "metadata": {},
          "execution_count": 49
        }
      ]
    },
    {
      "cell_type": "code",
      "source": [
        "#add an extrea dimension \n",
        "x_reshaped = x.reshape(1,9)\n",
        "x_reshaped , x_reshaped.shape"
      ],
      "metadata": {
        "colab": {
          "base_uri": "https://localhost:8080/"
        },
        "id": "ogz2GpZ01LRN",
        "outputId": "d0987982-5c92-401a-f9a3-e4a0b212cdee"
      },
      "execution_count": null,
      "outputs": [
        {
          "output_type": "execute_result",
          "data": {
            "text/plain": [
              "(tensor([[1., 2., 3., 4., 5., 6., 7., 8., 9.]]), torch.Size([1, 9]))"
            ]
          },
          "metadata": {},
          "execution_count": 50
        }
      ]
    },
    {
      "cell_type": "code",
      "source": [
        "# change the view \n",
        "z = x.view(1,9)\n",
        "z , z.shape"
      ],
      "metadata": {
        "colab": {
          "base_uri": "https://localhost:8080/"
        },
        "id": "wofMbhGV1wIn",
        "outputId": "b0932d79-9a7e-4251-8826-6d16669f69d7"
      },
      "execution_count": null,
      "outputs": [
        {
          "output_type": "execute_result",
          "data": {
            "text/plain": [
              "(tensor([[1., 2., 3., 4., 5., 6., 7., 8., 9.]]), torch.Size([1, 9]))"
            ]
          },
          "metadata": {},
          "execution_count": 51
        }
      ]
    },
    {
      "cell_type": "code",
      "source": [
        "#changing z changes x (because a view of a tensor share ths same memory as the original input)\n",
        "z[:, 0] = 5\n",
        "z,x"
      ],
      "metadata": {
        "colab": {
          "base_uri": "https://localhost:8080/"
        },
        "id": "oMfbez5r2Phb",
        "outputId": "852fb0fe-fc6d-4b3c-91bc-841355b54257"
      },
      "execution_count": null,
      "outputs": [
        {
          "output_type": "execute_result",
          "data": {
            "text/plain": [
              "(tensor([[5., 2., 3., 4., 5., 6., 7., 8., 9.]]),\n",
              " tensor([5., 2., 3., 4., 5., 6., 7., 8., 9.]))"
            ]
          },
          "metadata": {},
          "execution_count": 55
        }
      ]
    },
    {
      "cell_type": "code",
      "source": [
        "# Stack tensors of top of each other \n",
        "x_stacked = torch.stack([x,x,x,x],dim=1)\n",
        "x_stacked"
      ],
      "metadata": {
        "colab": {
          "base_uri": "https://localhost:8080/"
        },
        "id": "rg1NQnvS3exr",
        "outputId": "9f8f9094-5f77-484a-939b-622b8d43c578"
      },
      "execution_count": null,
      "outputs": [
        {
          "output_type": "execute_result",
          "data": {
            "text/plain": [
              "tensor([[5., 5., 5., 5.],\n",
              "        [2., 2., 2., 2.],\n",
              "        [3., 3., 3., 3.],\n",
              "        [4., 4., 4., 4.],\n",
              "        [5., 5., 5., 5.],\n",
              "        [6., 6., 6., 6.],\n",
              "        [7., 7., 7., 7.],\n",
              "        [8., 8., 8., 8.],\n",
              "        [9., 9., 9., 9.]])"
            ]
          },
          "metadata": {},
          "execution_count": 60
        }
      ]
    },
    {
      "cell_type": "code",
      "source": [
        " # torch.squeeze() - removes all single dimensions from a target tensor \n",
        "print(f\"Previous tensor {x_reshaped}\")\n",
        "print(f\"Previous Shape {x_reshaped.shape} \\n\")\n",
        "\n",
        "#Remove extra dimension from the tensor\n",
        "x_squeezed = x_reshaped.squeeze()\n",
        "print(f\"New tensor {x_reshaped.squeeze()}\")\n",
        "print(f\"Nrevious tensor {x_reshaped.squeeze().shape}\")"
      ],
      "metadata": {
        "colab": {
          "base_uri": "https://localhost:8080/"
        },
        "id": "QGT1mMZJ4Uke",
        "outputId": "f673c97e-1204-4a5c-d81c-b86f197bf4fd"
      },
      "execution_count": null,
      "outputs": [
        {
          "output_type": "stream",
          "name": "stdout",
          "text": [
            "Previous tensor tensor([[5., 2., 3., 4., 5., 6., 7., 8., 9.]])\n",
            "Previous Shape torch.Size([1, 9]) \n",
            "\n",
            "New tensor tensor([5., 2., 3., 4., 5., 6., 7., 8., 9.])\n",
            "Nrevious tensor torch.Size([9])\n"
          ]
        }
      ]
    },
    {
      "cell_type": "code",
      "source": [
        "x_reshaped.shape"
      ],
      "metadata": {
        "colab": {
          "base_uri": "https://localhost:8080/"
        },
        "id": "Ln6Y3GBh5fjf",
        "outputId": "d5ac193d-0372-44a8-b277-b46172dbe320"
      },
      "execution_count": null,
      "outputs": [
        {
          "output_type": "execute_result",
          "data": {
            "text/plain": [
              "torch.Size([1, 9])"
            ]
          },
          "metadata": {},
          "execution_count": 63
        }
      ]
    },
    {
      "cell_type": "code",
      "source": [
        "x_reshaped.squeeze()"
      ],
      "metadata": {
        "colab": {
          "base_uri": "https://localhost:8080/"
        },
        "id": "pliQ9uTE5hx-",
        "outputId": "0877929c-12dd-4d62-8940-83d4000aa657"
      },
      "execution_count": null,
      "outputs": [
        {
          "output_type": "execute_result",
          "data": {
            "text/plain": [
              "tensor([5., 2., 3., 4., 5., 6., 7., 8., 9.])"
            ]
          },
          "metadata": {},
          "execution_count": 64
        }
      ]
    },
    {
      "cell_type": "code",
      "source": [
        "x_reshaped.squeeze().shape"
      ],
      "metadata": {
        "colab": {
          "base_uri": "https://localhost:8080/"
        },
        "id": "pQPWtvIw5p-X",
        "outputId": "a3189420-b900-4192-d4f0-ad6012ee7675"
      },
      "execution_count": null,
      "outputs": [
        {
          "output_type": "execute_result",
          "data": {
            "text/plain": [
              "torch.Size([9])"
            ]
          },
          "metadata": {},
          "execution_count": 65
        }
      ]
    },
    {
      "cell_type": "code",
      "source": [
        " # torch.unsqueeze() - adds a single dimension to a tagrget tensor at a specific dim  \n",
        "print(f\"Previous target:{x_squeezed}\")\n",
        "print(f\"Previous shape:{x_squeezed.shape}\")\n",
        "\n",
        "#addd an extra dimension with unsqueeze\n",
        "x_unsqueezed = x_unsqueezed.unsqueeze(dim=1)\n",
        "print(f\" \\n New :{x_unsqueezed}\")\n",
        "print(f\"New Shape:{x_unsqueezed.shape}\")"
      ],
      "metadata": {
        "id": "WY6X6VZ75wqb",
        "colab": {
          "base_uri": "https://localhost:8080/"
        },
        "outputId": "d2e7fbe3-492b-4bfc-cad3-75956bcf1ca0"
      },
      "execution_count": null,
      "outputs": [
        {
          "output_type": "stream",
          "name": "stdout",
          "text": [
            "Previous target:tensor([5., 2., 3., 4., 5., 6., 7., 8., 9.])\n",
            "Previous shape:torch.Size([9])\n",
            " \n",
            " New :tensor([[[[5., 2., 3., 4., 5., 6., 7., 8., 9.]]]])\n",
            "New Shape:torch.Size([1, 1, 1, 9])\n"
          ]
        }
      ]
    },
    {
      "cell_type": "code",
      "source": [
        "# torch.permute - rearranges the dimensions of a target tensor inn a specified order\n",
        "x_original  = torch.rand(size=(224,224,3)) # [height,width , color_channels]\n",
        "\n",
        "#permute the original tensor to rearrange the axis (or dim) order\n",
        "x_permuted = x_original.permute(2,0,1) # shifts axis o->1, 1->2 , 2->0\n",
        "print(f\"Previous shape : {x_original.shape}\")\n",
        "print(f\"New shape: {x_permuted.shape}\") # [colour_channels, height , width]\n"
      ],
      "metadata": {
        "colab": {
          "base_uri": "https://localhost:8080/"
        },
        "id": "jQgYXUMfGIyP",
        "outputId": "b7da09e1-23e4-42a7-e12c-86890cb51709"
      },
      "execution_count": null,
      "outputs": [
        {
          "output_type": "stream",
          "name": "stdout",
          "text": [
            "Previous shape : torch.Size([224, 224, 3])\n",
            "New shape: torch.Size([3, 224, 224])\n"
          ]
        }
      ]
    },
    {
      "cell_type": "markdown",
      "source": [
        "## Indexing (selecting data from tensors)\n",
        "\n",
        "Indexing with PyTorch is similar to indexing with NumPy"
      ],
      "metadata": {
        "id": "XEC__1tELWNu"
      }
    },
    {
      "cell_type": "code",
      "source": [
        " # create a tensor \n",
        " import torch\n",
        " x = torch.arange(1,10).reshape(1,3,3)\n",
        " x, x.shape"
      ],
      "metadata": {
        "colab": {
          "base_uri": "https://localhost:8080/"
        },
        "id": "zKT5qV4kP4lv",
        "outputId": "eb4fbea2-4ee7-46dd-e450-57a0e9b06a26"
      },
      "execution_count": 19,
      "outputs": [
        {
          "output_type": "execute_result",
          "data": {
            "text/plain": [
              "(tensor([[[1, 2, 3],\n",
              "          [4, 5, 6],\n",
              "          [7, 8, 9]]]),\n",
              " torch.Size([1, 3, 3]))"
            ]
          },
          "metadata": {},
          "execution_count": 19
        }
      ]
    },
    {
      "cell_type": "code",
      "source": [
        "# Let's index on new tensor\n",
        "x[0]"
      ],
      "metadata": {
        "colab": {
          "base_uri": "https://localhost:8080/"
        },
        "id": "_aw-Z8RqQZJC",
        "outputId": "4ad17c68-7d23-4572-e85f-ca1319d70318"
      },
      "execution_count": 20,
      "outputs": [
        {
          "output_type": "execute_result",
          "data": {
            "text/plain": [
              "tensor([[1, 2, 3],\n",
              "        [4, 5, 6],\n",
              "        [7, 8, 9]])"
            ]
          },
          "metadata": {},
          "execution_count": 20
        }
      ]
    },
    {
      "cell_type": "code",
      "source": [
        "# Let's index on middle bracket\n",
        "x[0][0]"
      ],
      "metadata": {
        "colab": {
          "base_uri": "https://localhost:8080/"
        },
        "id": "KOMCA4F-Q8O_",
        "outputId": "c6f841d3-5525-467b-d0ad-56dec4594e62"
      },
      "execution_count": 21,
      "outputs": [
        {
          "output_type": "execute_result",
          "data": {
            "text/plain": [
              "tensor([1, 2, 3])"
            ]
          },
          "metadata": {},
          "execution_count": 21
        }
      ]
    },
    {
      "cell_type": "code",
      "source": [
        "# Let's index on the most inner brack (last dimension)\n",
        "x[0][2][2]"
      ],
      "metadata": {
        "colab": {
          "base_uri": "https://localhost:8080/"
        },
        "id": "_zMpxZ2TREQ3",
        "outputId": "2dd333ac-d40a-479b-da76-7286838b3146"
      },
      "execution_count": 22,
      "outputs": [
        {
          "output_type": "execute_result",
          "data": {
            "text/plain": [
              "tensor(9)"
            ]
          },
          "metadata": {},
          "execution_count": 22
        }
      ]
    },
    {
      "cell_type": "code",
      "source": [
        "# you can also use \":\" to select \"all\" of a target dimension\n",
        "x[:,0]"
      ],
      "metadata": {
        "colab": {
          "base_uri": "https://localhost:8080/"
        },
        "id": "EhX_PDFXRUdr",
        "outputId": "b6a9ba58-147d-4a1e-8819-f557ccb6bffc"
      },
      "execution_count": 23,
      "outputs": [
        {
          "output_type": "execute_result",
          "data": {
            "text/plain": [
              "tensor([[1, 2, 3]])"
            ]
          },
          "metadata": {},
          "execution_count": 23
        }
      ]
    },
    {
      "cell_type": "code",
      "source": [
        "# get all values of 0th and 1st dimension but only index 1 of 2nd dimensiton \n",
        "x[:,:, 1]"
      ],
      "metadata": {
        "colab": {
          "base_uri": "https://localhost:8080/"
        },
        "id": "xCVmDM2XSJtp",
        "outputId": "71e570ff-167e-4cee-d613-afd8a544738f"
      },
      "execution_count": 24,
      "outputs": [
        {
          "output_type": "execute_result",
          "data": {
            "text/plain": [
              "tensor([[2, 5, 8]])"
            ]
          },
          "metadata": {},
          "execution_count": 24
        }
      ]
    },
    {
      "cell_type": "code",
      "source": [
        "# get all values of 0 dimenssion but only the 1 index value of 1st and 2nd dimension \n",
        "x[:,1,1]"
      ],
      "metadata": {
        "colab": {
          "base_uri": "https://localhost:8080/"
        },
        "id": "2RoHUmmZTP6f",
        "outputId": "b5443bf1-4587-4a1d-fbf2-dfcdf193b928"
      },
      "execution_count": 25,
      "outputs": [
        {
          "output_type": "execute_result",
          "data": {
            "text/plain": [
              "tensor([5])"
            ]
          },
          "metadata": {},
          "execution_count": 25
        }
      ]
    },
    {
      "cell_type": "code",
      "source": [
        "# get index of 0th and 1st dimension and all values of 2nd dimension \n",
        "x[0,0,:]"
      ],
      "metadata": {
        "colab": {
          "base_uri": "https://localhost:8080/"
        },
        "id": "eKEtVCjDUVS2",
        "outputId": "173515c4-bcce-47ec-a51d-18217aacbec5"
      },
      "execution_count": 26,
      "outputs": [
        {
          "output_type": "execute_result",
          "data": {
            "text/plain": [
              "tensor([1, 2, 3])"
            ]
          },
          "metadata": {},
          "execution_count": 26
        }
      ]
    },
    {
      "cell_type": "code",
      "source": [
        "# index on x to return 9\n",
        "x[0,2,2] \n"
      ],
      "metadata": {
        "id": "uDtCLn1oVImS",
        "colab": {
          "base_uri": "https://localhost:8080/"
        },
        "outputId": "acf3c189-c4bf-4a8f-fbc4-ea90cfda31e1"
      },
      "execution_count": 27,
      "outputs": [
        {
          "output_type": "execute_result",
          "data": {
            "text/plain": [
              "tensor(9)"
            ]
          },
          "metadata": {},
          "execution_count": 27
        }
      ]
    },
    {
      "cell_type": "code",
      "source": [
        " x[0,:,2]"
      ],
      "metadata": {
        "colab": {
          "base_uri": "https://localhost:8080/"
        },
        "id": "8hCLwgmpKjsP",
        "outputId": "6090e789-ab93-4102-c183-18455b07194e"
      },
      "execution_count": 28,
      "outputs": [
        {
          "output_type": "execute_result",
          "data": {
            "text/plain": [
              "tensor([3, 6, 9])"
            ]
          },
          "metadata": {},
          "execution_count": 28
        }
      ]
    },
    {
      "cell_type": "markdown",
      "source": [
        "## PyTorch tensors and NumPy\n",
        "\n",
        "NumPy is a popular scientific Python numerical computing library.\n",
        "\n",
        "and because of this, PyTorch has functionality to interact with it.\n",
        "\n",
        "* Data is NumPy, want in PyTorch tensor -> `torch.from_numpy(ndarray)`\n",
        "\n",
        "* PyTorch tensor -> Numpy -> `torch.Tensor.numpy()`"
      ],
      "metadata": {
        "id": "lzPBRwaLLv2T"
      }
    },
    {
      "cell_type": "code",
      "source": [
        "# NumPy array to tensor \n",
        "import torch\n",
        "import numpy as np\n",
        "\n",
        "array = np.arange(1.0,8.0)\n",
        "tensor = torch.from_numpy(array)    # warning : when converting from numpy -> pytorch, pytorch reflects numpy's default datatype of float64 unless specifies otherwise.\n",
        "array , tensor\n"
      ],
      "metadata": {
        "colab": {
          "base_uri": "https://localhost:8080/"
        },
        "id": "dsT_fBiQMtPH",
        "outputId": "02d1e67e-2430-4155-c2e3-93129629fd38"
      },
      "execution_count": 34,
      "outputs": [
        {
          "output_type": "execute_result",
          "data": {
            "text/plain": [
              "(array([1., 2., 3., 4., 5., 6., 7.]),\n",
              " tensor([1., 2., 3., 4., 5., 6., 7.], dtype=torch.float64))"
            ]
          },
          "metadata": {},
          "execution_count": 34
        }
      ]
    },
    {
      "cell_type": "code",
      "source": [
        "# change the value of array, what will this do to `tensor`?\n",
        "array = array + 1\n",
        "array"
      ],
      "metadata": {
        "colab": {
          "base_uri": "https://localhost:8080/"
        },
        "id": "A0f9eukiNNzG",
        "outputId": "f5479281-5112-433b-b876-59c2446469c6"
      },
      "execution_count": 36,
      "outputs": [
        {
          "output_type": "execute_result",
          "data": {
            "text/plain": [
              "array([3., 4., 5., 6., 7., 8., 9.])"
            ]
          },
          "metadata": {},
          "execution_count": 36
        }
      ]
    },
    {
      "cell_type": "code",
      "source": [
        " # Tensor to NumPy array \n",
        " tensor = torch.ones(7)\n",
        " numpy_tensor = tensor.numpy()\n",
        " tensor = torch.ones(8)\n",
        " tensor , numpy_tensor  "
      ],
      "metadata": {
        "colab": {
          "base_uri": "https://localhost:8080/"
        },
        "id": "aWfdNa6nN23s",
        "outputId": "677ddb33-70ad-41f3-e667-17cc3530986f"
      },
      "execution_count": 38,
      "outputs": [
        {
          "output_type": "execute_result",
          "data": {
            "text/plain": [
              "(tensor([1., 1., 1., 1., 1., 1., 1., 1.]),\n",
              " array([1., 1., 1., 1., 1., 1., 1.], dtype=float32))"
            ]
          },
          "metadata": {},
          "execution_count": 38
        }
      ]
    },
    {
      "cell_type": "markdown",
      "source": [
        "## Reproducibility (trying to take random out of random)\n",
        "\n",
        "#### in short how a neural network learns\n",
        "\n",
        "`start with random numbers -> tensors operations -> update random numbers to try and make them of the data -> again -> again -> again - > again...`\n",
        "\n",
        "to reduce the randomness in neural networks and PyTorch comes the concept of a **random seed**.\n",
        "\n",
        "Essentially what the random seed does is \"flavour\" the randomness."
      ],
      "metadata": {
        "id": "UjN7JNxJO-bU"
      }
    },
    {
      "cell_type": "code",
      "source": [
        "import torch\n",
        "\n",
        "#create two random tensors \n",
        "random_tensor_A = torch.rand(3,4)\n",
        "random_tensor_B =  torch.rand(3,4)\n",
        "\n",
        "print(random_tensor_A)\n",
        "print(random_tensor_B)\n",
        "print(random_tensor_A == random_tensor_B)"
      ],
      "metadata": {
        "colab": {
          "base_uri": "https://localhost:8080/"
        },
        "id": "ghu2mRlaSJO_",
        "outputId": "a278e816-bece-4315-d471-bc75fd50e62a"
      },
      "execution_count": 42,
      "outputs": [
        {
          "output_type": "stream",
          "name": "stdout",
          "text": [
            "tensor([[0.5300, 0.2480, 0.2567, 0.8483],\n",
            "        [0.2586, 0.0830, 0.0205, 0.6677],\n",
            "        [0.5822, 0.8043, 0.3572, 0.8104]])\n",
            "tensor([[0.3832, 0.3097, 0.4547, 0.5859],\n",
            "        [0.0913, 0.0063, 0.1988, 0.5853],\n",
            "        [0.7298, 0.7384, 0.7547, 0.1398]])\n",
            "tensor([[False, False, False, False],\n",
            "        [False, False, False, False],\n",
            "        [False, False, False, False]])\n"
          ]
        }
      ]
    },
    {
      "cell_type": "code",
      "source": [],
      "metadata": {
        "id": "DuKQMlZmS_XC"
      },
      "execution_count": 39,
      "outputs": []
    }
  ]
}
